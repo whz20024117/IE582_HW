{
 "cells": [
  {
   "cell_type": "code",
   "execution_count": 1,
   "metadata": {},
   "outputs": [],
   "source": [
    "import numpy as np\n",
    "import pandas as pd"
   ]
  },
  {
   "cell_type": "code",
   "execution_count": 2,
   "metadata": {},
   "outputs": [],
   "source": [
    "class model:\n",
    "    def __init__(self, w0, theta, alpha=0.1):\n",
    "        self.w = w0\n",
    "        self.theta = theta\n",
    "        self.lr = alpha\n",
    "        \n",
    "    def _step(self, x, t):\n",
    "        y = self.predict(x)\n",
    "        # Updates\n",
    "        self.w = self.w + self.lr * (t - y) * x\n",
    "        self.theta = self.theta - self.lr * (t - y)\n",
    "    \n",
    "    def predict(self, x):\n",
    "        tmp = np.dot(self.w, x) - self.theta\n",
    "        if tmp < 0:\n",
    "            return 0\n",
    "        else:\n",
    "            return 1\n",
    "        \n",
    "    def fit(self, X, T):\n",
    "        print(\"Training for {} steps\".format(X.shape[0]))\n",
    "        for x, t in zip(X, T):\n",
    "            self._step(x, t)"
   ]
  },
  {
   "cell_type": "code",
   "execution_count": 3,
   "metadata": {},
   "outputs": [],
   "source": [
    "and_data = pd.read_csv('./and.csv', header=None).to_numpy()\n",
    "or_data = pd.read_csv('./or.csv', header=None).to_numpy()\n",
    "xor_data = pd.read_csv('./xor.csv', header=None).to_numpy()"
   ]
  },
  {
   "cell_type": "code",
   "execution_count": 4,
   "metadata": {},
   "outputs": [
    {
     "name": "stdout",
     "output_type": "stream",
     "text": [
      "Training for 50 steps\n",
      "Final Weights: [0.2 0.2]\n"
     ]
    }
   ],
   "source": [
    "# And\n",
    "model_and = model(np.array([0, 0]), 0.5)\n",
    "model_and.fit(and_data[:, :2], and_data[:, 2])\n",
    "print(\"Final Weights: {}\".format(model_and.w))"
   ]
  },
  {
   "cell_type": "code",
   "execution_count": 5,
   "metadata": {},
   "outputs": [
    {
     "name": "stdout",
     "output_type": "stream",
     "text": [
      "Training for 50 steps\n",
      "Final Weights: [0.2 0.3]\n"
     ]
    }
   ],
   "source": [
    "# Or\n",
    "model_or = model(np.array([0, 0]), 0.5)\n",
    "model_or.fit(or_data[:, :2], or_data[:, 2])\n",
    "print(\"Final Weights: {}\".format(model_or.w))"
   ]
  },
  {
   "cell_type": "code",
   "execution_count": 6,
   "metadata": {},
   "outputs": [
    {
     "name": "stdout",
     "output_type": "stream",
     "text": [
      "Training for 50 steps\n",
      "Final Weights: [-0.1  0.1]\n"
     ]
    }
   ],
   "source": [
    "# Xor\n",
    "model_xor = model(np.array([0, 0]), 0.5)\n",
    "model_xor.fit(xor_data[:, :2], xor_data[:, 2])\n",
    "print(\"Final Weights: {}\".format(model_xor.w))"
   ]
  },
  {
   "cell_type": "code",
   "execution_count": null,
   "metadata": {},
   "outputs": [],
   "source": []
  }
 ],
 "metadata": {
  "kernelspec": {
   "display_name": "Python 3",
   "language": "python",
   "name": "python3"
  },
  "language_info": {
   "codemirror_mode": {
    "name": "ipython",
    "version": 3
   },
   "file_extension": ".py",
   "mimetype": "text/x-python",
   "name": "python",
   "nbconvert_exporter": "python",
   "pygments_lexer": "ipython3",
   "version": "3.7.4"
  }
 },
 "nbformat": 4,
 "nbformat_minor": 2
}
