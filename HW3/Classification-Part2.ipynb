{
 "cells": [
  {
   "cell_type": "code",
   "execution_count": null,
   "metadata": {},
   "outputs": [],
   "source": [
    "from sklearn import datasets\n",
    "import pandas as pd\n",
    "import matplotlib.pyplot as plt\n",
    "import seaborn as sns\n",
    "from sklearn.linear_model import LogisticRegression\n",
    "from sklearn.model_selection import train_test_split\n",
    "from sklearn.metrics import accuracy_score\n",
    "from sklearn import model_selection\n",
    "import numpy as np\n",
    "import warnings\n",
    "warnings.filterwarnings(\"ignore\")"
   ]
  },
  {
   "cell_type": "code",
   "execution_count": null,
   "metadata": {},
   "outputs": [],
   "source": [
    "sns.set_context(\"paper\")\n",
    "sns.set_style(\"darkgrid\")"
   ]
  },
  {
   "cell_type": "markdown",
   "metadata": {},
   "source": [
    "## Data"
   ]
  },
  {
   "cell_type": "code",
   "execution_count": null,
   "metadata": {},
   "outputs": [],
   "source": [
    "np.random.seed(1)#7\n",
    "x,y=datasets.make_classification(n_samples=1000,n_features=2,n_classes=2,\n",
    "                                 n_informative=2,n_redundant=0,n_clusters_per_class=1,weights=[0.99,0.01])\n",
    "df=pd.DataFrame(x,columns=[\"x1\",\"x2\"])\n",
    "df['y']=y\n",
    "\n",
    "df.shape"
   ]
  },
  {
   "cell_type": "code",
   "execution_count": null,
   "metadata": {},
   "outputs": [],
   "source": [
    "df[df.columns[:2]].hist(figsize=(15,5))\n",
    "plt.show()"
   ]
  },
  {
   "cell_type": "markdown",
   "metadata": {},
   "source": [
    "# Training a logistic regression model"
   ]
  },
  {
   "cell_type": "code",
   "execution_count": null,
   "metadata": {},
   "outputs": [],
   "source": [
    "LogisticModel = LogisticRegression(solver=\"liblinear\")\n",
    "kfold = model_selection.KFold(n_splits=10,random_state=10)\n",
    "\n",
    "accuracy = model_selection.cross_val_score(LogisticModel, x, y, cv=kfold,scoring=\"accuracy\")\n",
    "\n",
    "accuracy.mean()"
   ]
  },
  {
   "cell_type": "code",
   "execution_count": null,
   "metadata": {},
   "outputs": [],
   "source": [
    "df['yhat']=0\n",
    "accuracy_score(y,df['yhat'])"
   ]
  },
  {
   "cell_type": "code",
   "execution_count": null,
   "metadata": {},
   "outputs": [],
   "source": [
    "\"%y=1:\",df[df['y']==0].shape[0]/df.shape[0],\"%y=0:\",df[df['y']==1].shape[0]/df.shape[0]"
   ]
  },
  {
   "cell_type": "code",
   "execution_count": null,
   "metadata": {},
   "outputs": [],
   "source": []
  },
  {
   "cell_type": "code",
   "execution_count": null,
   "metadata": {},
   "outputs": [],
   "source": []
  },
  {
   "cell_type": "code",
   "execution_count": null,
   "metadata": {},
   "outputs": [],
   "source": []
  },
  {
   "cell_type": "code",
   "execution_count": null,
   "metadata": {},
   "outputs": [],
   "source": []
  },
  {
   "cell_type": "code",
   "execution_count": null,
   "metadata": {},
   "outputs": [],
   "source": []
  },
  {
   "cell_type": "code",
   "execution_count": null,
   "metadata": {},
   "outputs": [],
   "source": []
  },
  {
   "cell_type": "code",
   "execution_count": null,
   "metadata": {},
   "outputs": [],
   "source": []
  },
  {
   "cell_type": "code",
   "execution_count": null,
   "metadata": {},
   "outputs": [],
   "source": []
  },
  {
   "cell_type": "code",
   "execution_count": null,
   "metadata": {},
   "outputs": [],
   "source": []
  },
  {
   "cell_type": "code",
   "execution_count": null,
   "metadata": {},
   "outputs": [],
   "source": []
  },
  {
   "cell_type": "code",
   "execution_count": null,
   "metadata": {},
   "outputs": [],
   "source": []
  },
  {
   "cell_type": "code",
   "execution_count": null,
   "metadata": {},
   "outputs": [],
   "source": []
  },
  {
   "cell_type": "code",
   "execution_count": null,
   "metadata": {},
   "outputs": [],
   "source": []
  },
  {
   "cell_type": "code",
   "execution_count": null,
   "metadata": {},
   "outputs": [],
   "source": []
  },
  {
   "cell_type": "code",
   "execution_count": null,
   "metadata": {},
   "outputs": [],
   "source": []
  },
  {
   "cell_type": "markdown",
   "metadata": {},
   "source": [
    "## Confusion Matrix"
   ]
  },
  {
   "cell_type": "code",
   "execution_count": null,
   "metadata": {},
   "outputs": [],
   "source": [
    "from sklearn.metrics import confusion_matrix"
   ]
  },
  {
   "cell_type": "code",
   "execution_count": null,
   "metadata": {},
   "outputs": [],
   "source": [
    "cm=confusion_matrix(y,df['yhat']).T\n",
    "cm"
   ]
  },
  {
   "cell_type": "code",
   "execution_count": null,
   "metadata": {},
   "outputs": [],
   "source": [
    "# Pos: y=1\n",
    "# Neg: y=0\n",
    "\n",
    "#           Neg.  Pos.\n",
    "# Neg. hat [983,  17],\n",
    "# Pos. hat [  0,   0]"
   ]
  },
  {
   "cell_type": "code",
   "execution_count": null,
   "metadata": {},
   "outputs": [],
   "source": [
    "Count_neg=len(y[y==0])\n",
    "Count_pos=len(y[y==1])\n",
    "Count_neg,Count_pos"
   ]
  },
  {
   "cell_type": "code",
   "execution_count": null,
   "metadata": {},
   "outputs": [],
   "source": [
    "TN=cm[0][0] #True Neg.\n",
    "FN=cm[0][1] #False Neg.: predicted as Neg., but it is Pos.\n",
    "FP=cm[1][0] #False Pos.: predicted as Pos., but it is Neg.\n",
    "TP=cm[1][1] #True Pos."
   ]
  },
  {
   "cell_type": "code",
   "execution_count": null,
   "metadata": {},
   "outputs": [],
   "source": [
    "Sensitivity=TP/Count_pos #how many sick people are identified as sick\n",
    "Specificity=TN/Count_neg #how many health people are identified as healthy\n",
    "Precision=0#TP/(TP+FP)\n",
    "Sensitivity,Specificity"
   ]
  },
  {
   "cell_type": "code",
   "execution_count": null,
   "metadata": {},
   "outputs": [],
   "source": [
    "F1_score=0#2*(Precision*Sensitivity)/(Precision+Sensitivity)\n",
    "F1_score"
   ]
  },
  {
   "cell_type": "code",
   "execution_count": null,
   "metadata": {},
   "outputs": [],
   "source": [
    "np.random.seed(582)\n",
    "LogisticModel = LogisticRegression(solver=\"liblinear\").fit(x, y)\n",
    "df['yhat']=LogisticModel.predict(x)\n",
    "accuracy_score(y,df['yhat'])"
   ]
  },
  {
   "cell_type": "code",
   "execution_count": null,
   "metadata": {},
   "outputs": [],
   "source": [
    "cm=confusion_matrix(y,df['yhat']).T\n",
    "cm"
   ]
  },
  {
   "cell_type": "code",
   "execution_count": null,
   "metadata": {},
   "outputs": [],
   "source": [
    "TN=cm[0][0] #True Neg.\n",
    "FN=cm[0][1] #False Neg.: predicted as Neg., but it is Pos.\n",
    "FP=cm[1][0] #False Pos.: predicted as Pos., but it is Neg.\n",
    "TP=cm[1][1] #True Pos."
   ]
  },
  {
   "cell_type": "code",
   "execution_count": null,
   "metadata": {},
   "outputs": [],
   "source": [
    "Sensitivity=TP/Count_pos #how many sick people are identified as sick\n",
    "Specificity=TN/Count_neg #how many health people are identified as healthy\n",
    "Precision=TP/(TP+FP)\n",
    "Sensitivity,Specificity"
   ]
  },
  {
   "cell_type": "code",
   "execution_count": null,
   "metadata": {},
   "outputs": [],
   "source": [
    "F1_score=2*(Precision*Sensitivity)/(Precision+Sensitivity)\n",
    "F1_score"
   ]
  },
  {
   "cell_type": "code",
   "execution_count": null,
   "metadata": {},
   "outputs": [],
   "source": [
    "from sklearn.metrics import f1_score"
   ]
  },
  {
   "cell_type": "code",
   "execution_count": null,
   "metadata": {},
   "outputs": [],
   "source": [
    "f1_score(y,df['yhat'])"
   ]
  },
  {
   "cell_type": "code",
   "execution_count": null,
   "metadata": {},
   "outputs": [],
   "source": [
    "LogisticModel = LogisticRegression(solver=\"liblinear\")\n",
    "f1 = model_selection.cross_val_score(LogisticModel, x, y, cv=kfold,scoring=\"f1\")\n",
    "f1.mean()"
   ]
  },
  {
   "cell_type": "code",
   "execution_count": null,
   "metadata": {},
   "outputs": [],
   "source": [
    "from sklearn.neural_network import MLPClassifier\n",
    "import numpy as np\n",
    "import matplotlib.pyplot as plt\n",
    "\n",
    "def plot_decision_boundary(pred_func,X,y):\n",
    "    x_min, x_max = X[:, 0].min() - 0.15, X[:, 0].max() + 0.15\n",
    "    y_min, y_max = X[:, 1].min() - 0.15, X[:, 1].max() + 0.15\n",
    "    xx, yy = np.meshgrid(np.arange(x_min, x_max, 0.01), np.arange(y_min, y_max, 0.01))\n",
    "    Z = pred_func(np.c_[xx.ravel(), yy.ravel()])\n",
    "    Z = Z.reshape(xx.shape)\n",
    "    \n",
    "    plt.contourf(xx, yy, Z, cmap=plt.cm.Spectral)\n",
    "    plt.scatter(X[:, 0], X[:, 1], c=y,s=100)\n",
    "    plt.show()\n",
    "    \n",
    "def predict(model, x):\n",
    "    return model.predict(x)"
   ]
  },
  {
   "cell_type": "code",
   "execution_count": null,
   "metadata": {},
   "outputs": [],
   "source": [
    "clf = MLPClassifier(solver='lbfgs',hidden_layer_sizes=(32,10),\\\n",
    "                    activation=\"logistic\", random_state=1,max_iter=10000)\n",
    "clf.fit(x, y)\n"
   ]
  },
  {
   "cell_type": "code",
   "execution_count": null,
   "metadata": {},
   "outputs": [],
   "source": [
    "cm=confusion_matrix(y,predict(clf, x)).T\n",
    "cm"
   ]
  },
  {
   "cell_type": "code",
   "execution_count": null,
   "metadata": {},
   "outputs": [],
   "source": [
    "TN=cm[0][0] #True Neg.\n",
    "FN=cm[0][1] #False Neg.: predicted as Neg., but it is Pos.\n",
    "FP=cm[1][0] #False Pos.: predicted as Pos., but it is Neg.\n",
    "TP=cm[1][1] #True Pos.\n",
    "\n",
    "Sensitivity=TP/Count_pos #how many sick people are identified as sick\n",
    "Specificity=TN/Count_neg #how many health people are identified as healthy\n",
    "Precision=TP/(TP+FP)\n",
    "Sensitivity,Specificity"
   ]
  },
  {
   "cell_type": "code",
   "execution_count": null,
   "metadata": {},
   "outputs": [],
   "source": [
    "F1_score=2*(Precision*Sensitivity)/(Precision+Sensitivity)\n",
    "F1_score"
   ]
  },
  {
   "cell_type": "code",
   "execution_count": null,
   "metadata": {},
   "outputs": [],
   "source": [
    "plt.figure(figsize=(20,20))\n",
    "plot_decision_boundary(lambda x: predict(clf, x),x,y)"
   ]
  },
  {
   "cell_type": "code",
   "execution_count": null,
   "metadata": {},
   "outputs": [],
   "source": [
    "for nn in [(8),(16),(32),(8,8),(8,16),(8,32),(16,8),(16,16),(16,32),(32,8),(32,16),(32,32)]:\n",
    "    clf = MLPClassifier(solver='lbfgs',hidden_layer_sizes=nn,\\\n",
    "                        activation=\"logistic\", random_state=1,max_iter=10000)\n",
    "\n",
    "\n",
    "    f1 = model_selection.cross_val_score(clf, x, y, cv=kfold,scoring=\"f1\")\n",
    "    print(nn,f1.mean())"
   ]
  },
  {
   "cell_type": "code",
   "execution_count": null,
   "metadata": {},
   "outputs": [],
   "source": [
    "LogisticModel = LogisticRegression(solver=\"liblinear\")\n",
    "f1 = model_selection.cross_val_score(LogisticModel, x, y, cv=kfold,scoring=\"f1\")\n",
    "f1.mean()"
   ]
  },
  {
   "cell_type": "code",
   "execution_count": null,
   "metadata": {},
   "outputs": [],
   "source": [
    "# https://scikit-learn.org/stable/modules/model_evaluation.html "
   ]
  },
  {
   "cell_type": "code",
   "execution_count": null,
   "metadata": {},
   "outputs": [],
   "source": []
  }
 ],
 "metadata": {
  "kernelspec": {
   "display_name": "Python 3",
   "language": "python",
   "name": "python3"
  },
  "language_info": {
   "codemirror_mode": {
    "name": "ipython",
    "version": 3
   },
   "file_extension": ".py",
   "mimetype": "text/x-python",
   "name": "python",
   "nbconvert_exporter": "python",
   "pygments_lexer": "ipython3",
   "version": "3.6.8"
  },
  "toc": {
   "base_numbering": 1,
   "nav_menu": {},
   "number_sections": true,
   "sideBar": true,
   "skip_h1_title": false,
   "title_cell": "Table of Contents",
   "title_sidebar": "Contents",
   "toc_cell": false,
   "toc_position": {},
   "toc_section_display": true,
   "toc_window_display": false
  }
 },
 "nbformat": 4,
 "nbformat_minor": 2
}
